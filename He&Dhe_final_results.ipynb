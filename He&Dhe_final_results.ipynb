{
 "cells": [
  {
   "cell_type": "code",
   "execution_count": 26,
   "metadata": {},
   "outputs": [
    {
     "name": "stdout",
     "output_type": "stream",
     "text": [
      "10.942990064620972\n"
     ]
    }
   ],
   "source": [
    "# he parallel on 1 cores\n",
    "import multiprocessing\n",
    "from histogram_1 import *\n",
    "if __name__ == '__main__':\n",
    "    try:\n",
    "        files = [join(\"Pict20\", f) for f in listdir(\"Pict20\") if isfile(join(\"Pict20\", f))]\n",
    "\n",
    "    except FileNotFoundError:\n",
    "        print('File not found!')\n",
    "        exit(0)\n",
    "\n",
    "    pool = multiprocessing.Pool(processes=1)\n",
    "    \n",
    "    start_time = time.time()\n",
    "    \n",
    "    result = pool.map(histogram_equalization, files)\n",
    "        \n",
    "    end_time = time.time()\n",
    "    \n",
    "    print(end_time - start_time)"
   ]
  },
  {
   "cell_type": "code",
   "execution_count": 25,
   "metadata": {},
   "outputs": [
    {
     "name": "stdout",
     "output_type": "stream",
     "text": [
      "5.830466985702515\n"
     ]
    }
   ],
   "source": [
    "# he parallel on 2 cores\n",
    "import multiprocessing\n",
    "from histogram_1 import *\n",
    "if __name__ == '__main__':\n",
    "    try:\n",
    "        files = [join(\"Pict20\", f) for f in listdir(\"Pict20\") if isfile(join(\"Pict20\", f))]\n",
    "\n",
    "    except FileNotFoundError:\n",
    "        print('File not found!')\n",
    "        exit(0)\n",
    "\n",
    "    pool = multiprocessing.Pool(processes=2)\n",
    "    \n",
    "    start_time = time.time()\n",
    "    \n",
    "    result = pool.map(histogram_equalization, files)\n",
    "        \n",
    "    end_time = time.time()\n",
    "    \n",
    "    print(end_time - start_time)"
   ]
  },
  {
   "cell_type": "code",
   "execution_count": 22,
   "metadata": {},
   "outputs": [
    {
     "name": "stdout",
     "output_type": "stream",
     "text": [
      "4.1232171058654785\n"
     ]
    }
   ],
   "source": [
    "# he parallel on 3 cores\n",
    "import multiprocessing\n",
    "from histogram_1 import *\n",
    "if __name__ == '__main__':\n",
    "    try:\n",
    "        files = [join(\"Pict20\", f) for f in listdir(\"Pict20\") if isfile(join(\"Pict20\", f))]\n",
    "\n",
    "    except FileNotFoundError:\n",
    "        print('File not found!')\n",
    "        exit(0)\n",
    "\n",
    "    pool = multiprocessing.Pool(processes=3)\n",
    "    \n",
    "    start_time = time.time()\n",
    "    \n",
    "    result = pool.map(histogram_equalization, files)\n",
    "        \n",
    "    end_time = time.time()\n",
    "    \n",
    "    print(end_time - start_time)"
   ]
  },
  {
   "cell_type": "code",
   "execution_count": 20,
   "metadata": {},
   "outputs": [
    {
     "name": "stdout",
     "output_type": "stream",
     "text": [
      "4.036669969558716\n"
     ]
    }
   ],
   "source": [
    "\n",
    "# he parallel on 4 cores\n",
    "import multiprocessing\n",
    "from histogram_1 import *\n",
    "if __name__ == '__main__':\n",
    "    try:\n",
    "        files = [join(\"Pict20\", f) for f in listdir(\"Pict20\") if isfile(join(\"Pict20\", f))]\n",
    "\n",
    "    except FileNotFoundError:\n",
    "        print('File not found!')\n",
    "        exit(0)\n",
    "\n",
    "    pool = multiprocessing.Pool(processes=4)\n",
    "    \n",
    "    start_time = time.time()\n",
    "    \n",
    "    result = pool.map(histogram_equalization, files)\n",
    "        \n",
    "    end_time = time.time()\n",
    "    \n",
    "    print(end_time - start_time)"
   ]
  },
  {
   "cell_type": "code",
   "execution_count": 10,
   "metadata": {},
   "outputs": [
    {
     "name": "stdout",
     "output_type": "stream",
     "text": [
      "3.1565401554107666\n"
     ]
    }
   ],
   "source": [
    "# he parallel on 6 cores\n",
    "import multiprocessing\n",
    "from histogram_1 import *\n",
    "if __name__ == '__main__':\n",
    "    try:\n",
    "        files = [join(\"Pict20\", f) for f in listdir(\"Pict20\") if isfile(join(\"Pict20\", f))]\n",
    "\n",
    "    except FileNotFoundError:\n",
    "        print('File not found!')\n",
    "        exit(0)\n",
    "\n",
    "    pool = multiprocessing.Pool(processes=6)\n",
    "    \n",
    "    start_time = time.time()\n",
    "    \n",
    "    result = pool.map(histogram_equalization, files)\n",
    "        \n",
    "    end_time = time.time()\n",
    "    \n",
    "    print(end_time - start_time)"
   ]
  },
  {
   "cell_type": "code",
   "execution_count": 14,
   "metadata": {},
   "outputs": [
    {
     "name": "stdout",
     "output_type": "stream",
     "text": [
      "2.8970491886138916\n"
     ]
    }
   ],
   "source": [
    "# he parallel on 8 cores\n",
    "import multiprocessing\n",
    "from histogram_1 import *\n",
    "if __name__ == '__main__':\n",
    "    try:\n",
    "        files = [join(\"Pict20\", f) for f in listdir(\"Pict20\") if isfile(join(\"Pict20\", f))]\n",
    "\n",
    "    except FileNotFoundError:\n",
    "        print('File not found!')\n",
    "        exit(0)\n",
    "\n",
    "    pool = multiprocessing.Pool(processes=8)\n",
    "    \n",
    "    start_time = time.time()\n",
    "    \n",
    "    result = pool.map(histogram_equalization, files)\n",
    "        \n",
    "    end_time = time.time()\n",
    "    \n",
    "    print(end_time - start_time)"
   ]
  },
  {
   "cell_type": "code",
   "execution_count": 19,
   "metadata": {},
   "outputs": [
    {
     "name": "stdout",
     "output_type": "stream",
     "text": [
      "Toal Time Taken = 189.99377393722534\n"
     ]
    }
   ],
   "source": [
    "# Dhe parallel on 2 cores\n",
    "from Dhe_1 import *\n",
    "import imageio\n",
    "import multiprocessing\n",
    "\n",
    "\n",
    "def main():  \n",
    "    files = [f for f in listdir(\"Pict20\") if isfile(join(\"Pict20\", f))]\n",
    "    for img_name in files:\n",
    "        \n",
    "        pool = multiprocessing.Pool(processes=2)\n",
    "        start_time = time.time()\n",
    "        result = pool.map(dhe, files) #dhe(img)\n",
    "        end_time = time.time() - start_time\n",
    "        \n",
    "    print(\"Toal Time Taken =\", end_time)\n",
    "\n",
    "\n",
    "if __name__ == '__main__':\n",
    "    main()\n"
   ]
  },
  {
   "cell_type": "code",
   "execution_count": 27,
   "metadata": {},
   "outputs": [
    {
     "name": "stdout",
     "output_type": "stream",
     "text": [
      "Toal Time Taken = 155.12809896469116\n"
     ]
    }
   ],
   "source": [
    "# Dhe parallel on 4 cores\n",
    "from Dhe_1 import *\n",
    "import imageio\n",
    "import multiprocessing\n",
    "\n",
    "def main():  \n",
    "    files = [f for f in listdir(\"Pict20\") if isfile(join(\"Pict20\", f))]\n",
    "    for img_name in files:\n",
    "        \n",
    "        pool = multiprocessing.Pool(processes=4)\n",
    "        start_time = time.time()\n",
    "        result = pool.map(dhe, files) #dhe(img)\n",
    "        end_time = time.time() - start_time\n",
    "        \n",
    "    print(\"Toal Time Taken =\", end_time)\n",
    "\n",
    "\n",
    "if __name__ == '__main__':\n",
    "    main()"
   ]
  },
  {
   "cell_type": "code",
   "execution_count": null,
   "metadata": {},
   "outputs": [],
   "source": [
    "# Dhe parallel on 6 cores\n",
    "from Dhe_1 import *\n",
    "import imageio\n",
    "import multiprocessing\n",
    "\n",
    "def main():  \n",
    "    files = [f for f in listdir(\"Pict20\") if isfile(join(\"Pict20\", f))]\n",
    "    for img_name in files:\n",
    "        \n",
    "        pool = multiprocessing.Pool(processes=6)\n",
    "        start_time = time.time()\n",
    "        result = pool.map(dhe, files) #dhe(img)\n",
    "        end_time = time.time() - start_time\n",
    "        \n",
    "    print(\"Toal Time Taken =\", end_time)\n",
    "\n",
    "\n",
    "if __name__ == '__main__':\n",
    "    main()"
   ]
  },
  {
   "cell_type": "code",
   "execution_count": 16,
   "metadata": {},
   "outputs": [
    {
     "name": "stdout",
     "output_type": "stream",
     "text": [
      "Toal Time Taken = 103.7345941066742\n"
     ]
    }
   ],
   "source": [
    "# Dhe parallel on  cores\n",
    "from Dhe_1 import *\n",
    "import imageio\n",
    "import multiprocessing\n",
    "\n",
    "def main():  \n",
    "    files = [f for f in listdir(\"Pict20\") if isfile(join(\"Pict20\", f))]\n",
    "    for img_name in files:\n",
    "        \n",
    "        pool = multiprocessing.Pool(processes=8)\n",
    "        start_time = time.time()\n",
    "        result = pool.map(dhe, files) #dhe(img)\n",
    "        end_time = time.time() - start_time\n",
    "        \n",
    "    print(\"Toal Time Taken =\", end_time)\n",
    "\n",
    "\n",
    "if __name__ == '__main__':\n",
    "    main()"
   ]
  },
  {
   "cell_type": "code",
   "execution_count": 1,
   "metadata": {},
   "outputs": [
    {
     "data": {
      "image/png": "[encoded data removed]",
      "text/plain": [
       "<Figure size 432x288 with 1 Axes>"
      ]
     },
     "metadata": {
      "needs_background": "light"
     },
     "output_type": "display_data"
    }
   ],
   "source": [
    "import numpy as np\n",
    "import matplotlib.pyplot as plt\n",
    "lst=[5.830466985702515,4.036669969558716,3.1565401554107666,2.8970491886138916]\n",
    "n_of_c=[2,4,6,8]\n",
    "plt.bar(n_of_c,lst, color ='gray',\n",
    "        width = 0.4)\n",
    " \n",
    "plt.xlabel(\"no of cores\")\n",
    "plt.ylabel(\"time\")\n",
    "plt.title(\"he parallel  with multiprocessing\")\n",
    "plt.show()"
   ]
  },
  {
   "cell_type": "code",
   "execution_count": 2,
   "metadata": {},
   "outputs": [
    {
     "data": {
      "image/png": "[encoded data removed]",
      "text/plain": [
       "<Figure size 432x288 with 1 Axes>"
      ]
     },
     "metadata": {
      "needs_background": "light"
     },
     "output_type": "display_data"
    }
   ],
   "source": [
    "import numpy as np\n",
    "import matplotlib.pyplot as plt\n",
    "lst=[189.99377393722534,155.12809896469116,123.13829896469116,103.7345941066742]\n",
    "n_of_c=[2,4,6,8]\n",
    "plt.bar(n_of_c,lst, color ='gray',\n",
    "        width = 0.4)\n",
    " \n",
    "plt.xlabel(\"no of cores\")\n",
    "plt.ylabel(\"time\")\n",
    "plt.title(\"Dhe parallel  with multiprocessing\")\n",
    "plt.show()"
   ]
  },
  {
   "cell_type": "code",
   "execution_count": null,
   "metadata": {},
   "outputs": [],
   "source": []
  }
 ],
 "metadata": {
  "kernelspec": {
   "display_name": "Python 3",
   "language": "python",
   "name": "python3"
  },
  "language_info": {
   "codemirror_mode": {
    "name": "ipython",
    "version": 3
   },
   "file_extension": ".py",
   "mimetype": "text/x-python",
   "name": "python",
   "nbconvert_exporter": "python",
   "pygments_lexer": "ipython3",
   "version": "3.7.6"
  }
 },
 "nbformat": 4,
 "nbformat_minor": 4
}
