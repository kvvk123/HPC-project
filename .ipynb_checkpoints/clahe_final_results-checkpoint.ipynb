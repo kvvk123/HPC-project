{
 "cells": [
  {
   "cell_type": "code",
   "execution_count": 1,
   "metadata": {},
   "outputs": [],
   "source": [
    "# clahe main code\n",
    "import numpy as np\n",
    "import imageio\n",
    "import matplotlib.pyplot as plt\n",
    "from skimage import io\n",
    "import time\n",
    "from os import listdir\n",
    "from os.path import isfile, join\n",
    "#INTERPOLATION FUNCTION\n",
    "def interpolate(subBin,LU,RU,LB,RB,subX,subY):\n",
    "    subImage = np.zeros(subBin.shape)\n",
    "    num = subX*subY\n",
    "    for i in range(subX):\n",
    "        inverseI = subX-i\n",
    "        for j in range(subY):\n",
    "            inverseJ = subY-j\n",
    "            val = subBin[i,j].astype(int)\n",
    "            subImage[i,j] = np.floor((inverseI*(inverseJ*LU[val] + j*RU[val])+ i*(inverseJ*LB[val] + j*RB[val]))/float(num))\n",
    "    return subImage\n",
    "\n",
    "#CLAHE FUNCTION\n",
    "#ALL UTILITY FUNCTIONS COMBINED INTO ONE FUNCTION\n",
    "def clahe(img,clipLimit=8,nrBins=128,nrX=0,nrY=0):\n",
    "    '''img - Input image\n",
    "       clipLimit - Normalized clipLimit. Higher value gives more contrast\n",
    "       nrBins - Number of graylevel bins for histogram(\"dynamic range\")\n",
    "       nrX - Number of contextial regions in X direction\n",
    "       nrY - Number of Contextial regions in Y direction'''\n",
    "    h,w = img.shape\n",
    "    if clipLimit==1:\n",
    "        return\n",
    "    nrBins = max(nrBins,128)\n",
    "    if nrX==0:\n",
    "        #Taking dimensions of each contextial region to be a square of 32X32\n",
    "        xsz = 32\n",
    "        ysz = 32\n",
    "        nrX = np.ceil(h/xsz).astype(int)#240\n",
    "        #Excess number of pixels to get an integer value of nrX and nrY\n",
    "        excX= int(xsz*(nrX-h/xsz))\n",
    "        nrY = np.ceil(w/ysz).astype(int)#320\n",
    "        excY= int(ysz*(nrY-w/ysz))\n",
    "        #Pad that number of pixels to the image\n",
    "        if excX!=0:\n",
    "            img = np.append(img,np.zeros((excX,img.shape[1])).astype(int),axis=0)\n",
    "        if excY!=0:\n",
    "            img = np.append(img,np.zeros((img.shape[0],excY)).astype(int),axis=1)\n",
    "    else:\n",
    "        xsz = round(h/nrX)\n",
    "        ysz = round(w/nrY)\n",
    "    \n",
    "    nrPixels = xsz*ysz\n",
    "    xsz2 = round(xsz/2)\n",
    "    ysz2 = round(ysz/2)\n",
    "    claheimg = np.zeros(img.shape)\n",
    "    \n",
    "    if clipLimit > 0:\n",
    "        clipLimit = max(1,clipLimit*xsz*ysz/nrBins)\n",
    "    else:\n",
    "        clipLimit = 50\n",
    "    \n",
    "    #makeLUT\n",
    "    print(\"...Make the LUT...\")\n",
    "    minVal = 0 #np.min(img)\n",
    "    maxVal = 255 #np.max(img)\n",
    "    \n",
    "    #maxVal1 = maxVal + np.maximum(np.array([0]),minVal) - minVal\n",
    "    #minVal1 = np.maximum(np.array([0]),minVal)\n",
    "    \n",
    "    binSz = np.floor(1+(maxVal-minVal)/float(nrBins))\n",
    "    LUT = np.floor((np.arange(minVal,maxVal+1)-minVal)/float(binSz))\n",
    "    \n",
    "    #BACK TO CLAHE\n",
    "    bins = LUT[img]\n",
    "    print(bins.shape)\n",
    "    #makeHistogram\n",
    "    print(\"...Making the Histogram...\")\n",
    "    hist = np.zeros((nrX,nrY,nrBins))\n",
    "    print(nrX,nrY,hist.shape)\n",
    "    for i in range(nrX):\n",
    "        for j in range(nrY):\n",
    "            bin_ = bins[i*xsz:(i+1)*xsz,j*ysz:(j+1)*ysz].astype(int)\n",
    "            for i1 in range(xsz):\n",
    "                for j1 in range(ysz):\n",
    "                    hist[i,j,bin_[i1,j1]]+=1\n",
    "    \n",
    "    #clipHistogram\n",
    "    print(\"...Clipping the Histogram...\")\n",
    "    if clipLimit>0:\n",
    "        for i in range(nrX):\n",
    "            for j in range(nrY):\n",
    "                nrExcess = 0\n",
    "                for nr in range(nrBins):\n",
    "                    excess = hist[i,j,nr] - clipLimit\n",
    "                    if excess>0:\n",
    "                        nrExcess += excess\n",
    "                \n",
    "                binIncr = nrExcess/nrBins\n",
    "                upper = clipLimit - binIncr\n",
    "                for nr in range(nrBins):\n",
    "                    if hist[i,j,nr] > clipLimit:\n",
    "                        hist[i,j,nr] = clipLimit\n",
    "                    else:\n",
    "                        if hist[i,j,nr]>upper:\n",
    "                            nrExcess += upper - hist[i,j,nr]\n",
    "                            hist[i,j,nr] = clipLimit\n",
    "                        else:\n",
    "                            nrExcess -= binIncr\n",
    "                            hist[i,j,nr] += binIncr\n",
    "                \n",
    "                if nrExcess > 0:\n",
    "                    stepSz = max(1,np.floor(1+nrExcess/nrBins))\n",
    "                    for nr in range(nrBins):\n",
    "                        nrExcess -= stepSz\n",
    "                        hist[i,j,nr] += stepSz\n",
    "                        if nrExcess < 1:\n",
    "                            break\n",
    "    \n",
    "    #mapHistogram\n",
    "    print(\"...Mapping the Histogram...\")\n",
    "    map_ = np.zeros((nrX,nrY,nrBins))\n",
    "    #print(map_.shape)\n",
    "    scale = (maxVal - minVal)/float(nrPixels)\n",
    "    for i in range(nrX):\n",
    "        for j in range(nrY):\n",
    "            sum_ = 0\n",
    "            for nr in range(nrBins):\n",
    "                sum_ += hist[i,j,nr]\n",
    "                map_[i,j,nr] = np.floor(min(minVal+sum_*scale,maxVal))\n",
    "    \n",
    "    #BACK TO CLAHE\n",
    "    #INTERPOLATION\n",
    "    print(\"...interpolation...\")\n",
    "    xI = 0\n",
    "    for i in range(nrX+1):\n",
    "        if i==0:\n",
    "            subX = int(xsz/2)\n",
    "            xU = 0\n",
    "            xB = 0\n",
    "        elif i==nrX:\n",
    "            subX = int(xsz/2)\n",
    "            xU = nrX-1\n",
    "            xB = nrX-1\n",
    "        else:\n",
    "            subX = xsz\n",
    "            xU = i-1\n",
    "            xB = i\n",
    "        \n",
    "        yI = 0\n",
    "        for j in range(nrY+1):\n",
    "            if j==0:\n",
    "                subY = int(ysz/2)\n",
    "                yL = 0\n",
    "                yR = 0\n",
    "            elif j==nrY:\n",
    "                subY = int(ysz/2)\n",
    "                yL = nrY-1\n",
    "                yR = nrY-1\n",
    "            else:\n",
    "                subY = ysz\n",
    "                yL = j-1\n",
    "                yR = j\n",
    "            UL = map_[xU,yL,:]\n",
    "            UR = map_[xU,yR,:]\n",
    "            BL = map_[xB,yL,:]\n",
    "            BR = map_[xB,yR,:]\n",
    "            #print(\"CLAHE vals...\")\n",
    "            subBin = bins[xI:xI+subX,yI:yI+subY]\n",
    "            #print(\"clahe subBin shape: \",subBin.shape)\n",
    "            subImage = interpolate(subBin,UL,UR,BL,BR,subX,subY)\n",
    "            claheimg[xI:xI+subX,yI:yI+subY] = subImage\n",
    "            yI += subY\n",
    "        xI += subX\n",
    "    \n",
    "    if excX==0 and excY!=0:\n",
    "        return claheimg[:,:-excY]\n",
    "    elif excX!=0 and excY==0:\n",
    "        return claheimg[:-excX,:]\n",
    "    elif excX!=0 and excY!=0:\n",
    "        return claheimg[:-excX,:-excY]\n",
    "    else:\n",
    "        return claheimg"
   ]
  },
  {
   "cell_type": "code",
   "execution_count": 3,
   "metadata": {},
   "outputs": [
    {
     "name": "stdout",
     "output_type": "stream",
     "text": [
      "15.304189920425415\n"
     ]
    }
   ],
   "source": [
    "# multiprocessing on clahe with 2 cores\n",
    "import multiprocessing\n",
    "from clahe_1 import *\n",
    "\n",
    "def main():\n",
    "    files = [imageio.imread(join(\"Pict20\", f))[:,:,0] for f in listdir(\"Pict20\") if isfile(join(\"Pict20\", f))]\n",
    "    \n",
    "    pool = multiprocessing.Pool(processes=2)\n",
    "    start_time= time.time()\n",
    "    clahe_img = pool.map(clahe, files)\n",
    "    print(time.time() - start_time)\n",
    "if __name__ == '__main__':\n",
    "    main()"
   ]
  },
  {
   "cell_type": "code",
   "execution_count": 6,
   "metadata": {},
   "outputs": [
    {
     "name": "stdout",
     "output_type": "stream",
     "text": [
      "10.314742088317871\n"
     ]
    }
   ],
   "source": [
    "# multiprocessing on clahe with 4 cores\n",
    "import multiprocessing\n",
    "from clahe_1 import *\n",
    "\n",
    "def main():\n",
    "    files = [imageio.imread(join(\"Pict20\", f))[:,:,0] for f in listdir(\"Pict20\") if isfile(join(\"Pict20\", f))]\n",
    "    \n",
    "    pool = multiprocessing.Pool(processes=4)\n",
    "    start_time= time.time()\n",
    "    clahe_img = pool.map(clahe, files)\n",
    "    print(time.time() - start_time)\n",
    "if __name__ == '__main__':\n",
    "    main()"
   ]
  },
  {
   "cell_type": "code",
   "execution_count": 7,
   "metadata": {},
   "outputs": [
    {
     "name": "stdout",
     "output_type": "stream",
     "text": [
      "8.202890872955322\n"
     ]
    }
   ],
   "source": [
    "# multiprocessing on clahe with 6 cores\n",
    "import multiprocessing\n",
    "from clahe_1 import *\n",
    "\n",
    "def main():\n",
    "    files = [imageio.imread(join(\"Pict20\", f))[:,:,0] for f in listdir(\"Pict20\") if isfile(join(\"Pict20\", f))]\n",
    "    \n",
    "    pool = multiprocessing.Pool(processes=6)\n",
    "    start_time= time.time()\n",
    "    clahe_img = pool.map(clahe, files)\n",
    "    print(time.time() - start_time)\n",
    "\n",
    "    main()"
   ]
  },
  {
   "cell_type": "code",
   "execution_count": 8,
   "metadata": {},
   "outputs": [
    {
     "name": "stdout",
     "output_type": "stream",
     "text": [
      "7.860849857330322\n"
     ]
    }
   ],
   "source": [
    "# multiprocessing on clahe with 8 cores\n",
    "import multiprocessing\n",
    "from clahe_1 import *\n",
    "\n",
    "def main():\n",
    "    files = [imageio.imread(join(\"Pict20\", f))[:,:,0] for f in listdir(\"Pict20\") if isfile(join(\"Pict20\", f))]\n",
    "    \n",
    "    pool = multiprocessing.Pool(processes=8)\n",
    "    start_time= time.time()\n",
    "    clahe_img = pool.map(clahe, files)\n",
    "    print(time.time() - start_time)\n",
    "\n",
    "\n",
    "if __name__ == '__main__':\n",
    "    main()"
   ]
  },
  {
   "cell_type": "code",
   "execution_count": 9,
   "metadata": {},
   "outputs": [
    {
     "name": "stdout",
     "output_type": "stream",
     "text": [
      "15.009116172790527\n"
     ]
    }
   ],
   "source": [
    "#joblib on clahe with 2 cores\n",
    "from clahe_1 import *\n",
    "from joblib import Parallel, delayed\n",
    "\n",
    "def main():\n",
    "    files = [imageio.imread(join(\"Pict20\", f))[:,:,0] for f in listdir(\"Pict20\") if isfile(join(\"Pict20\", f))]\n",
    "    \n",
    "    \n",
    "    start_time= time.time()\n",
    "    clahe_img = Parallel(n_jobs=2)(delayed(clahe)(i) for i in files)\n",
    "    print(time.time() - start_time)\n",
    "\n",
    "\n",
    "if __name__ == '__main__':\n",
    "    main()"
   ]
  },
  {
   "cell_type": "code",
   "execution_count": 1,
   "metadata": {},
   "outputs": [
    {
     "name": "stdout",
     "output_type": "stream",
     "text": [
      "8.518135070800781\n"
     ]
    }
   ],
   "source": [
    "#joblib on clahe with 4 cores\n",
    "from clahe_1 import *\n",
    "from joblib import Parallel, delayed\n",
    "\n",
    "def main():\n",
    "    files = [imageio.imread(join(\"Pict20\", f))[:,:,0] for f in listdir(\"Pict20\") if isfile(join(\"Pict20\", f))]\n",
    "    \n",
    "    \n",
    "    start_time= time.time()\n",
    "    clahe_img = Parallel(n_jobs=4)(delayed(clahe)(i) for i in files)\n",
    "    print(time.time() - start_time)\n",
    "\n",
    "if __name__ == '__main__':\n",
    "    main()"
   ]
  },
  {
   "cell_type": "code",
   "execution_count": 10,
   "metadata": {},
   "outputs": [
    {
     "name": "stdout",
     "output_type": "stream",
     "text": [
      "8.080245018005371\n"
     ]
    }
   ],
   "source": [
    "#joblib on clahe with 6 cores\n",
    "from clahe_1 import *\n",
    "from joblib import Parallel, delayed\n",
    "\n",
    "def main():\n",
    "    files = [imageio.imread(join(\"Pict20\", f))[:,:,0] for f in listdir(\"Pict20\") if isfile(join(\"Pict20\", f))]\n",
    "    \n",
    "    \n",
    "    start_time= time.time()\n",
    "    clahe_img = Parallel(n_jobs=6)(delayed(clahe)(i) for i in files)\n",
    "    print(time.time() - start_time)\n",
    "\n",
    "if __name__ == '__main__':\n",
    "    main()"
   ]
  },
  {
   "cell_type": "code",
   "execution_count": 11,
   "metadata": {},
   "outputs": [
    {
     "name": "stdout",
     "output_type": "stream",
     "text": [
      "6.978994131088257\n"
     ]
    }
   ],
   "source": [
    "#joblib on clahe with 8 cores\n",
    "from clahe_1 import *\n",
    "from joblib import Parallel, delayed\n",
    "\n",
    "def main():\n",
    "    files = [imageio.imread(join(\"Pict20\", f))[:,:,0] for f in listdir(\"Pict20\") if isfile(join(\"Pict20\", f))]\n",
    "    \n",
    "    \n",
    "    start_time= time.time()\n",
    "    clahe_img = Parallel(n_jobs=8)(delayed(clahe)(i) for i in files)\n",
    "    print(time.time() - start_time)\n",
    "\n",
    "\n",
    "if __name__ == '__main__':\n",
    "    main()"
   ]
  },
  {
   "cell_type": "code",
   "execution_count": 12,
   "metadata": {},
   "outputs": [
    {
     "data": {
      "image/png": "[encoded data removed]",
      "text/plain": [
       "<Figure size 432x288 with 1 Axes>"
      ]
     },
     "metadata": {
      "needs_background": "light"
     },
     "output_type": "display_data"
    }
   ],
   "source": [
    "import numpy as np\n",
    "import matplotlib.pyplot as plt\n",
    "lst=[15.304189920425415,10.314742088317871,8.202890872955322,7.860849857330322]\n",
    "n_of_c=[2,4,6,8]\n",
    "plt.bar(n_of_c,lst, color ='maroon',\n",
    "        width = 0.4)\n",
    " \n",
    "plt.xlabel(\"no of cores\")\n",
    "plt.ylabel(\"time\")\n",
    "plt.title(\"clahe parallel  with multiprocessig\")\n",
    "plt.show()"
   ]
  },
  {
   "cell_type": "code",
   "execution_count": 13,
   "metadata": {},
   "outputs": [
    {
     "data": {
      "image/png": "[encoded data removed]",
      "text/plain": [
       "<Figure size 432x288 with 1 Axes>"
      ]
     },
     "metadata": {
      "needs_background": "light"
     },
     "output_type": "display_data"
    }
   ],
   "source": [
    "import numpy as np\n",
    "import matplotlib.pyplot as plt\n",
    "lst=[15.009116172790527,8.518135070800781,8.080245018005371,6.978994131088257]\n",
    "n_of_c=[2,4,6,8]\n",
    "plt.bar(n_of_c,lst, color ='maroon',\n",
    "        width = 0.4)\n",
    " \n",
    "plt.xlabel(\"no of cores\")\n",
    "plt.ylabel(\"time\")\n",
    "plt.title(\"Clahe parallel  with joblib\")\n",
    "plt.show()"
   ]
  },
  {
   "cell_type": "code",
   "execution_count": null,
   "metadata": {},
   "outputs": [],
   "source": []
  }
 ],
 "metadata": {
  "kernelspec": {
   "display_name": "Python 3",
   "language": "python",
   "name": "python3"
  },
  "language_info": {
   "codemirror_mode": {
    "name": "ipython",
    "version": 3
   },
   "file_extension": ".py",
   "mimetype": "text/x-python",
   "name": "python",
   "nbconvert_exporter": "python",
   "pygments_lexer": "ipython3",
   "version": "3.8.5"
  }
 },
 "nbformat": 4,
 "nbformat_minor": 4
}
