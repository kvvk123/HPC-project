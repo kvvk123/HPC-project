{
 "cells": [
  {
   "cell_type": "code",
   "execution_count": 2,
   "metadata": {},
   "outputs": [],
   "source": [
    "import numpy as np\n",
    "import imageio\n",
    "import matplotlib.colors\n",
    "from os import listdir\n",
    "from os.path import isfile, join\n",
    "import scipy, scipy.misc, scipy.signal\n",
    "\n",
    "\n",
    "def build_is_hist(img):\n",
    "    hei = img.shape[0]\n",
    "    wid = img.shape[1]\n",
    "    ch = img.shape[2]\n",
    "    Img = np.zeros((hei + 4, wid + 4, ch))\n",
    "    for i in range(ch):\n",
    "        Img[:, :, i] = np.pad(img[:, :, i], (2, 2), 'edge')\n",
    "    hsv = (matplotlib.colors.rgb_to_hsv(Img))\n",
    "    hsv[:, :, 0] = hsv[:, :, 0] * 255\n",
    "    hsv[:, :, 1] = hsv[:, :, 1] * 255\n",
    "    hsv[hsv > 255] = 255\n",
    "    hsv[hsv < 0] = 0\n",
    "    hsv = hsv.astype(np.uint8).astype(np.float64)\n",
    "    fh = np.array([[-1.0, 0.0, 1.0], [-2.0, 0.0, 2.0], [-1.0, 0.0, 1.0]])\n",
    "    fv = fh.conj().T\n",
    "\n",
    "    H = hsv[:, :, 0]\n",
    "    S = hsv[:, :, 1]\n",
    "    I = hsv[:, :, 2]\n",
    "\n",
    "    dIh = scipy.signal.convolve2d(I, np.rot90(fh, 2), mode='same')\n",
    "    dIv = scipy.signal.convolve2d(I, np.rot90(fv, 2), mode='same')\n",
    "    dIh[dIh == 0] = 0.00001\n",
    "    dIv[dIv == 0] = 0.00001\n",
    "    dI = np.sqrt(dIh * 2 + dIv * 2).astype(np.uint32)\n",
    "    di = dI[2:hei + 2, 2:wid + 2]\n",
    "\n",
    "    dSh = scipy.signal.convolve2d(S, np.rot90(fh, 2), mode='same')\n",
    "    dSv = scipy.signal.convolve2d(S, np.rot90(fv, 2), mode='same')\n",
    "    dSh[dSh == 0] = 0.00001\n",
    "    dSv[dSv == 0] = 0.00001\n",
    "    dS = np.sqrt(dSh * 2 + dSv * 2).astype(np.uint32)\n",
    "    ds = dS[2:hei + 2, 2:wid + 2]\n",
    "\n",
    "    h = H[2:hei + 2, 2:wid + 2]\n",
    "    s = S[2:hei + 2, 2:wid + 2]\n",
    "    i = I[2:hei + 2, 2:wid + 2].astype(np.uint8)\n",
    "\n",
    "    Imean = scipy.signal.convolve2d(I, np.ones((5, 5)) / 25, mode='same')\n",
    "    Smean = scipy.signal.convolve2d(S, np.ones((5, 5)) / 25, mode='same')\n",
    "\n",
    "    Rho = np.zeros((hei + 4, wid + 4))\n",
    "    for p in range(2, hei + 2):\n",
    "        for q in range(2, wid + 2):\n",
    "            tmpi = I[p - 2:p + 3, q - 2:q + 3]\n",
    "            tmps = S[p - 2:p + 3, q - 2:q + 3]\n",
    "            corre = np.corrcoef(tmpi.flatten('F'), tmps.flatten('F'))\n",
    "            Rho[p, q] = corre[0, 1]\n",
    "\n",
    "    rho = np.abs(Rho[2:hei + 2, 2:wid + 2])\n",
    "    rho[np.isnan(rho)] = 0\n",
    "    rd = (rho * ds).astype(np.uint32)\n",
    "    Hist_I = np.zeros((256, 1))\n",
    "    Hist_S = np.zeros((256, 1))\n",
    "\n",
    "    for n in range(0, 255):\n",
    "        temp = np.zeros(di.shape)\n",
    "        temp[i == n] = di[i == n]\n",
    "        Hist_I[n + 1] = np.sum(temp.flatten('F'))\n",
    "        temp = np.zeros(di.shape)\n",
    "        temp[i == n] = rd[i == n]\n",
    "        Hist_S[n + 1] = np.sum(temp.flatten('F'))\n",
    "\n",
    "    return Hist_I, Hist_S\n",
    "\n",
    "\n",
    "def dhe(image, alpha=0.5):\n",
    "    img = imageio.imread(join(\"Pict20\", image))\n",
    "\n",
    "    hist_i, hist_s = build_is_hist(img)\n",
    "    hist_c = alpha * hist_s + (1 - alpha) * hist_i\n",
    "    hist_sum = np.sum(hist_c)\n",
    "    hist_cum = hist_c.cumsum(axis=0)\n",
    "\n",
    "    hsv = matplotlib.colors.rgb_to_hsv(img)\n",
    "    h = hsv[:, :, 0]\n",
    "    s = hsv[:, :, 1]\n",
    "    i = hsv[:, :, 2].astype(np.uint8)\n",
    "\n",
    "    c = hist_cum / hist_sum\n",
    "    s_r = (c * 255)\n",
    "    i_s = np.zeros(i.shape)\n",
    "    for n in range(0, 255):\n",
    "        i_s[i == n] = s_r[n + 1] / 255.0\n",
    "    i_s[i == 255] = 1\n",
    "    hsi_o = np.stack((h, s, i_s), axis=2)\n",
    "    result = matplotlib.colors.hsv_to_rgb(hsi_o)\n",
    "\n",
    "    result = result * 255\n",
    "    result[result > 255] = 255\n",
    "    result[result < 0] = 0\n",
    "    return result.astype(np.uint8)"
   ]
  },
  {
   "cell_type": "code",
   "execution_count": 3,
   "metadata": {},
   "outputs": [
    {
     "name": "stdout",
     "output_type": "stream",
     "text": [
      "Toal Time Taken = 213.38571405410767\n"
     ]
    }
   ],
   "source": [
    "from dhe import *\n",
    "from os import listdir\n",
    "from os.path import isfile, join\n",
    "import time\n",
    "import imageio\n",
    "import multiprocessing\n",
    "from joblib import Parallel, delayed\n",
    "\n",
    "def main():  \n",
    "    files = [f for f in listdir(\"Pict20\") if isfile(join(\"Pict20\", f))]\n",
    "    for img_name in files:\n",
    "        \n",
    "       \n",
    "        start_time = time.time()\n",
    "        dhe_img = Parallel(n_jobs=2)(delayed(dhe)(i) for i in files)\n",
    "        end_time = time.time() - start_time\n",
    "        \n",
    "    print(\"Toal Time Taken =\", end_time)\n",
    "\n",
    "\n",
    "if __name__ == '__main__':\n",
    "    main()"
   ]
  },
  {
   "cell_type": "code",
   "execution_count": 4,
   "metadata": {},
   "outputs": [
    {
     "name": "stdout",
     "output_type": "stream",
     "text": [
      "Toal Time Taken = 134.55625987052917\n"
     ]
    }
   ],
   "source": [
    "from dhe import *\n",
    "from os import listdir\n",
    "from os.path import isfile, join\n",
    "import time\n",
    "import imageio\n",
    "import multiprocessing\n",
    "from joblib import Parallel, delayed\n",
    "\n",
    "def main():  \n",
    "    files = [f for f in listdir(\"Pict20\") if isfile(join(\"Pict20\", f))]\n",
    "    for img_name in files:\n",
    "        \n",
    "       \n",
    "        start_time = time.time()\n",
    "        dhe_img = Parallel(n_jobs=4)(delayed(dhe)(i) for i in files)\n",
    "        end_time = time.time() - start_time\n",
    "        \n",
    "    print(\"Toal Time Taken =\", end_time)\n",
    "\n",
    "\n",
    "if __name__ == '__main__':\n",
    "    main()"
   ]
  },
  {
   "cell_type": "code",
   "execution_count": 5,
   "metadata": {},
   "outputs": [
    {
     "name": "stdout",
     "output_type": "stream",
     "text": [
      "Toal Time Taken = 114.70044922828674\n"
     ]
    }
   ],
   "source": [
    "from dhe import *\n",
    "from os import listdir\n",
    "from os.path import isfile, join\n",
    "import time\n",
    "import imageio\n",
    "import multiprocessing\n",
    "from joblib import Parallel, delayed\n",
    "\n",
    "def main():  \n",
    "    files = [f for f in listdir(\"Pict20\") if isfile(join(\"Pict20\", f))]\n",
    "    for img_name in files:\n",
    "        \n",
    "       \n",
    "        start_time = time.time()\n",
    "        dhe_img = Parallel(n_jobs=6)(delayed(dhe)(i) for i in files)\n",
    "        end_time = time.time() - start_time\n",
    "        \n",
    "    print(\"Toal Time Taken =\", end_time)\n",
    "\n",
    "\n",
    "if __name__ == '__main__':\n",
    "    main()"
   ]
  },
  {
   "cell_type": "code",
   "execution_count": 9,
   "metadata": {},
   "outputs": [
    {
     "name": "stdout",
     "output_type": "stream",
     "text": [
      "Toal Time Taken = 107.95438981056213\n"
     ]
    }
   ],
   "source": [
    "from dhe import *\n",
    "from os import listdir\n",
    "from os.path import isfile, join\n",
    "import time\n",
    "import imageio\n",
    "import multiprocessing\n",
    "from joblib import Parallel, delayed\n",
    "\n",
    "def main():  \n",
    "    files = [f for f in listdir(\"Pict20\") if isfile(join(\"Pict20\", f))]\n",
    "    for img_name in files:\n",
    "        \n",
    "       \n",
    "        start_time = time.time()\n",
    "        dhe_img = Parallel(n_jobs=8)(delayed(dhe)(i) for i in files)\n",
    "        end_time = time.time() - start_time\n",
    "        \n",
    "    print(\"Toal Time Taken =\", end_time)\n",
    "\n",
    "\n",
    "if __name__ == '__main__':\n",
    "    main()"
   ]
  },
  {
   "cell_type": "code",
   "execution_count": 7,
   "metadata": {},
   "outputs": [
    {
     "data": {
      "image/png": "[encoded data removed]",
      "text/plain": [
       "<Figure size 432x288 with 1 Axes>"
      ]
     },
     "metadata": {
      "needs_background": "light"
     },
     "output_type": "display_data"
    }
   ],
   "source": [
    "import numpy as np\n",
    "import matplotlib.pyplot as plt\n",
    "lst=[213.38571405410767,134.55625987052917,114.70044922828674,107.95438981056213]\n",
    "n_of_c=[2,4,6,8]\n",
    "plt.bar(n_of_c,lst, color ='maroon',\n",
    "        width = 0.4)\n",
    " \n",
    "plt.xlabel(\"no of cores\")\n",
    "plt.ylabel(\"time\")\n",
    "plt.title(\"Dynamic histogram equalization parallel  with joblib\")\n",
    "plt.show()"
   ]
  },
  {
   "cell_type": "code",
   "execution_count": null,
   "metadata": {},
   "outputs": [],
   "source": []
  }
 ],
 "metadata": {
  "kernelspec": {
   "display_name": "Python 3",
   "language": "python",
   "name": "python3"
  },
  "language_info": {
   "codemirror_mode": {
    "name": "ipython",
    "version": 3
   },
   "file_extension": ".py",
   "mimetype": "text/x-python",
   "name": "python",
   "nbconvert_exporter": "python",
   "pygments_lexer": "ipython3",
   "version": "3.7.6"
  }
 },
 "nbformat": 4,
 "nbformat_minor": 4
}
