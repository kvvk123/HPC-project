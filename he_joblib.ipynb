{
 "cells": [
  {
   "cell_type": "code",
   "execution_count": 3,
   "metadata": {},
   "outputs": [],
   "source": [
    "import numpy as np\n",
    "import cv2\n",
    "\n",
    "def he(img):\n",
    "    image = cv2.imread(img, 0)\n",
    "\n",
    "    histogram, _ = np.histogram(image.ravel(), 256, [0, 256])\n",
    "    r = image.shape[0] * image.shape[1]\n",
    "    D = np.zeros((256,))\n",
    "    for i in range(256):\n",
    "        for k in range(0, i + 1):\n",
    "            D[i] += histogram[k]\n",
    "        D[i] /= r\n",
    "\n",
    "    n = 0\n",
    "    while D[n] <= 0:\n",
    "        n += 1\n",
    "    min_D = D[n]\n",
    "    for i in range(image.shape[0]):\n",
    "        for j in range(image.shape[1]):\n",
    "            temp = (D[image[i, j]] - min_D) / (1 - min_D)\n",
    "            image[i, j] = np.floor(255 * temp)\n",
    "    return image"
   ]
  },
  {
   "cell_type": "code",
   "execution_count": 2,
   "metadata": {
    "scrolled": true
   },
   "outputs": [
    {
     "name": "stdout",
     "output_type": "stream",
     "text": [
      "6.07314920425415\n"
     ]
    }
   ],
   "source": [
    "from os import listdir\n",
    "from os.path import isfile, join\n",
    "from joblib import Parallel, delayed\n",
    "import multiprocessing\n",
    "import time\n",
    "from histogram_1 import *\n",
    "if __name__ == '__main__':\n",
    "    try:\n",
    "        files = [join(\"Pict20\", f) for f in listdir(\"Pict20\") if isfile(join(\"Pict20\", f))]\n",
    "\n",
    "    except FileNotFoundError:\n",
    "        print('File not found!')\n",
    "        exit(0)\n",
    "\n",
    "   \n",
    "    \n",
    "    start_time = time.time()\n",
    "    \n",
    "    he_img = Parallel(n_jobs=2)(delayed(he)(i) for i in files)\n",
    "        \n",
    "    end_time = time.time()\n",
    "    \n",
    "    print(end_time - start_time)"
   ]
  },
  {
   "cell_type": "code",
   "execution_count": 6,
   "metadata": {},
   "outputs": [
    {
     "name": "stdout",
     "output_type": "stream",
     "text": [
      "3.690429925918579\n"
     ]
    }
   ],
   "source": [
    "from os import listdir\n",
    "from os.path import isfile, join\n",
    "from joblib import Parallel, delayed\n",
    "import multiprocessing\n",
    "from histogram_1 import *\n",
    "if __name__ == '__main__':\n",
    "    try:\n",
    "        files = [join(\"Pict20\", f) for f in listdir(\"Pict20\") if isfile(join(\"Pict20\", f))]\n",
    "\n",
    "    except FileNotFoundError:\n",
    "        print('File not found!')\n",
    "        exit(0)\n",
    "\n",
    "   \n",
    "    \n",
    "    start_time = time.time()\n",
    "    \n",
    "    he_img = Parallel(n_jobs=4)(delayed(he)(i) for i in files)\n",
    "        \n",
    "    end_time = time.time()\n",
    "    \n",
    "    print(end_time - start_time)\n",
    "    "
   ]
  },
  {
   "cell_type": "code",
   "execution_count": 7,
   "metadata": {},
   "outputs": [
    {
     "name": "stdout",
     "output_type": "stream",
     "text": [
      "3.167772054672241\n"
     ]
    }
   ],
   "source": [
    "from os import listdir\n",
    "from os.path import isfile, join\n",
    "from joblib import Parallel, delayed\n",
    "import multiprocessing\n",
    "from histogram_1 import *\n",
    "if __name__ == '__main__':\n",
    "    try:\n",
    "        files = [join(\"Pict20\", f) for f in listdir(\"Pict20\") if isfile(join(\"Pict20\", f))]\n",
    "\n",
    "    except FileNotFoundError:\n",
    "        print('File not found!')\n",
    "        exit(0)\n",
    "\n",
    "   \n",
    "    \n",
    "    start_time = time.time()\n",
    "    \n",
    "    he_img = Parallel(n_jobs=6)(delayed(he)(i) for i in files)\n",
    "        \n",
    "    end_time = time.time()\n",
    "    \n",
    "    print(end_time - start_time)\n",
    "    "
   ]
  },
  {
   "cell_type": "code",
   "execution_count": 5,
   "metadata": {},
   "outputs": [
    {
     "name": "stdout",
     "output_type": "stream",
     "text": [
      "2.725414991378784\n"
     ]
    }
   ],
   "source": [
    "from os import listdir\n",
    "from os.path import isfile, join\n",
    "from joblib import Parallel, delayed\n",
    "import multiprocessing\n",
    "from histogram_1 import *\n",
    "if __name__ == '__main__':\n",
    "    try:\n",
    "        files = [join(\"Pict20\", f) for f in listdir(\"Pict20\") if isfile(join(\"Pict20\", f))]\n",
    "\n",
    "    except FileNotFoundError:\n",
    "        print('File not found!')\n",
    "        exit(0)\n",
    "\n",
    "   \n",
    "    \n",
    "    start_time = time.time()\n",
    "    \n",
    "    he_img = Parallel(n_jobs=8)(delayed(he)(i) for i in files)\n",
    "        \n",
    "    end_time = time.time()\n",
    "    \n",
    "    print(end_time - start_time)"
   ]
  },
  {
   "cell_type": "code",
   "execution_count": 8,
   "metadata": {},
   "outputs": [
    {
     "data": {
      "image/png": "[encoded data removed]",
      "text/plain": [
       "<Figure size 432x288 with 1 Axes>"
      ]
     },
     "metadata": {
      "needs_background": "light"
     },
     "output_type": "display_data"
    }
   ],
   "source": [
    "import numpy as np\n",
    "import matplotlib.pyplot as plt\n",
    "lst=[6.07314920425415,3.67317795753479,3.167772054672241,2.725414991378784]\n",
    "n_of_c=[2,4,6,8]\n",
    "plt.bar(n_of_c,lst, color ='maroon',\n",
    "        width = 0.4)\n",
    " \n",
    "plt.xlabel(\"no of cores\")\n",
    "plt.ylabel(\"time\")\n",
    "plt.title(\"histogram equalization parallel  with joblib\")\n",
    "plt.show()"
   ]
  },
  {
   "cell_type": "code",
   "execution_count": null,
   "metadata": {},
   "outputs": [],
   "source": []
  }
 ],
 "metadata": {
  "kernelspec": {
   "display_name": "Python 3",
   "language": "python",
   "name": "python3"
  },
  "language_info": {
   "codemirror_mode": {
    "name": "ipython",
    "version": 3
   },
   "file_extension": ".py",
   "mimetype": "text/x-python",
   "name": "python",
   "nbconvert_exporter": "python",
   "pygments_lexer": "ipython3",
   "version": "3.7.6"
  }
 },
 "nbformat": 4,
 "nbformat_minor": 4
}
